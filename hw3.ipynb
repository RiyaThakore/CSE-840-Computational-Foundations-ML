{
  "cells": [
    {
      "cell_type": "markdown",
      "metadata": {
        "id": "UpTzZ7DXRDnW"
      },
      "source": [
        "# Question 5 (Homework 3)\n",
        "\n",
        "For this question, you will write an implementation of the logistic regression model with maximum likelihood approach using the gradient descent algorithm. The dataset for this question corresponds to the autism screening data created by Dr Fadi Fayez Thabtah using a mobile app called ASDTests (ASDtests.com). Your task is to train a logistic regression model to classify the toddlers based on their various predictor attributes. You will need to train your model on a given training set and report its classification performance on a separate test set.\n",
        "\n",
        "The code must be written using only the built-in functions in standard python as well as functions provided by the numpy and pandas libraries. You may also use the train_test_split() function in scikit-learn for this homework. All other functions in the scikit-learn library or other libraries are prohibited. If you're unsure whether you can use other functions/libraries, please contact the instructor. \n",
        "\n",
        "Follow the step-by-step procedure given in this tempate. Rename the template file to yourlastname.ipynb and submit the Jupyter notebook along with its HTML version (by choosing File -> Download as HTML on the menu option). "
      ]
    },
    {
      "cell_type": "markdown",
      "metadata": {
        "id": "t3KMwUoxRDnZ"
      },
      "source": [
        "**Step 1: Import Data**\n",
        "\n",
        "First, you need to download the autism data from D2L. Load the input data into a pandas DataFrame object and display it."
      ]
    },
    {
      "cell_type": "code",
      "execution_count": null,
      "metadata": {
        "id": "n1do8fvgRDnZ",
        "colab": {
          "base_uri": "https://localhost:8080/",
          "height": 424
        },
        "outputId": "ce465e37-725c-408e-e61f-ee27a076661d"
      },
      "outputs": [
        {
          "output_type": "execute_result",
          "data": {
            "text/plain": [
              "      Case_No  A1  A2  A3  A4  A5  A6  A7  A8  A9  A10  Age_Months  \\\n",
              "0           1   0   0   0   0   0   0   1   1   0    1          28   \n",
              "1           2   1   1   0   0   0   1   1   0   0    0          36   \n",
              "2           3   1   0   0   0   0   0   1   1   0    1          36   \n",
              "3           4   1   1   1   1   1   1   1   1   1    1          24   \n",
              "4           5   1   1   0   1   1   1   1   1   1    1          20   \n",
              "...       ...  ..  ..  ..  ..  ..  ..  ..  ..  ..  ...         ...   \n",
              "1049     1050   0   0   0   0   0   0   0   0   0    1          24   \n",
              "1050     1051   0   0   1   1   1   0   1   0   1    0          12   \n",
              "1051     1052   1   0   1   1   1   1   1   1   1    1          18   \n",
              "1052     1053   1   0   0   0   0   0   0   1   0    1          19   \n",
              "1053     1054   1   1   0   0   1   1   0   1   1    0          24   \n",
              "\n",
              "      Qchat-10-Score  Sex  Ethnicity  Jaundice  Family_mem_with_ASD  Class  \n",
              "0                  3    1          0         1                    0      0  \n",
              "1                  4    0          1         1                    0      1  \n",
              "2                  4    0          0         1                    0      1  \n",
              "3                 10    0          0         0                    0      1  \n",
              "4                  9    1          1         0                    1      1  \n",
              "...              ...  ...        ...       ...                  ...    ...  \n",
              "1049               1    1          1         0                    1      0  \n",
              "1050               5    0          0         1                    0      1  \n",
              "1051               9    0          0         1                    0      1  \n",
              "1052               3    0          1         0                    1      0  \n",
              "1053               6    0          0         1                    1      1  \n",
              "\n",
              "[1054 rows x 18 columns]"
            ],
            "text/html": [
              "\n",
              "  <div id=\"df-e0a312d5-5ba7-41c1-868f-4da7e12a3218\">\n",
              "    <div class=\"colab-df-container\">\n",
              "      <div>\n",
              "<style scoped>\n",
              "    .dataframe tbody tr th:only-of-type {\n",
              "        vertical-align: middle;\n",
              "    }\n",
              "\n",
              "    .dataframe tbody tr th {\n",
              "        vertical-align: top;\n",
              "    }\n",
              "\n",
              "    .dataframe thead th {\n",
              "        text-align: right;\n",
              "    }\n",
              "</style>\n",
              "<table border=\"1\" class=\"dataframe\">\n",
              "  <thead>\n",
              "    <tr style=\"text-align: right;\">\n",
              "      <th></th>\n",
              "      <th>Case_No</th>\n",
              "      <th>A1</th>\n",
              "      <th>A2</th>\n",
              "      <th>A3</th>\n",
              "      <th>A4</th>\n",
              "      <th>A5</th>\n",
              "      <th>A6</th>\n",
              "      <th>A7</th>\n",
              "      <th>A8</th>\n",
              "      <th>A9</th>\n",
              "      <th>A10</th>\n",
              "      <th>Age_Months</th>\n",
              "      <th>Qchat-10-Score</th>\n",
              "      <th>Sex</th>\n",
              "      <th>Ethnicity</th>\n",
              "      <th>Jaundice</th>\n",
              "      <th>Family_mem_with_ASD</th>\n",
              "      <th>Class</th>\n",
              "    </tr>\n",
              "  </thead>\n",
              "  <tbody>\n",
              "    <tr>\n",
              "      <th>0</th>\n",
              "      <td>1</td>\n",
              "      <td>0</td>\n",
              "      <td>0</td>\n",
              "      <td>0</td>\n",
              "      <td>0</td>\n",
              "      <td>0</td>\n",
              "      <td>0</td>\n",
              "      <td>1</td>\n",
              "      <td>1</td>\n",
              "      <td>0</td>\n",
              "      <td>1</td>\n",
              "      <td>28</td>\n",
              "      <td>3</td>\n",
              "      <td>1</td>\n",
              "      <td>0</td>\n",
              "      <td>1</td>\n",
              "      <td>0</td>\n",
              "      <td>0</td>\n",
              "    </tr>\n",
              "    <tr>\n",
              "      <th>1</th>\n",
              "      <td>2</td>\n",
              "      <td>1</td>\n",
              "      <td>1</td>\n",
              "      <td>0</td>\n",
              "      <td>0</td>\n",
              "      <td>0</td>\n",
              "      <td>1</td>\n",
              "      <td>1</td>\n",
              "      <td>0</td>\n",
              "      <td>0</td>\n",
              "      <td>0</td>\n",
              "      <td>36</td>\n",
              "      <td>4</td>\n",
              "      <td>0</td>\n",
              "      <td>1</td>\n",
              "      <td>1</td>\n",
              "      <td>0</td>\n",
              "      <td>1</td>\n",
              "    </tr>\n",
              "    <tr>\n",
              "      <th>2</th>\n",
              "      <td>3</td>\n",
              "      <td>1</td>\n",
              "      <td>0</td>\n",
              "      <td>0</td>\n",
              "      <td>0</td>\n",
              "      <td>0</td>\n",
              "      <td>0</td>\n",
              "      <td>1</td>\n",
              "      <td>1</td>\n",
              "      <td>0</td>\n",
              "      <td>1</td>\n",
              "      <td>36</td>\n",
              "      <td>4</td>\n",
              "      <td>0</td>\n",
              "      <td>0</td>\n",
              "      <td>1</td>\n",
              "      <td>0</td>\n",
              "      <td>1</td>\n",
              "    </tr>\n",
              "    <tr>\n",
              "      <th>3</th>\n",
              "      <td>4</td>\n",
              "      <td>1</td>\n",
              "      <td>1</td>\n",
              "      <td>1</td>\n",
              "      <td>1</td>\n",
              "      <td>1</td>\n",
              "      <td>1</td>\n",
              "      <td>1</td>\n",
              "      <td>1</td>\n",
              "      <td>1</td>\n",
              "      <td>1</td>\n",
              "      <td>24</td>\n",
              "      <td>10</td>\n",
              "      <td>0</td>\n",
              "      <td>0</td>\n",
              "      <td>0</td>\n",
              "      <td>0</td>\n",
              "      <td>1</td>\n",
              "    </tr>\n",
              "    <tr>\n",
              "      <th>4</th>\n",
              "      <td>5</td>\n",
              "      <td>1</td>\n",
              "      <td>1</td>\n",
              "      <td>0</td>\n",
              "      <td>1</td>\n",
              "      <td>1</td>\n",
              "      <td>1</td>\n",
              "      <td>1</td>\n",
              "      <td>1</td>\n",
              "      <td>1</td>\n",
              "      <td>1</td>\n",
              "      <td>20</td>\n",
              "      <td>9</td>\n",
              "      <td>1</td>\n",
              "      <td>1</td>\n",
              "      <td>0</td>\n",
              "      <td>1</td>\n",
              "      <td>1</td>\n",
              "    </tr>\n",
              "    <tr>\n",
              "      <th>...</th>\n",
              "      <td>...</td>\n",
              "      <td>...</td>\n",
              "      <td>...</td>\n",
              "      <td>...</td>\n",
              "      <td>...</td>\n",
              "      <td>...</td>\n",
              "      <td>...</td>\n",
              "      <td>...</td>\n",
              "      <td>...</td>\n",
              "      <td>...</td>\n",
              "      <td>...</td>\n",
              "      <td>...</td>\n",
              "      <td>...</td>\n",
              "      <td>...</td>\n",
              "      <td>...</td>\n",
              "      <td>...</td>\n",
              "      <td>...</td>\n",
              "      <td>...</td>\n",
              "    </tr>\n",
              "    <tr>\n",
              "      <th>1049</th>\n",
              "      <td>1050</td>\n",
              "      <td>0</td>\n",
              "      <td>0</td>\n",
              "      <td>0</td>\n",
              "      <td>0</td>\n",
              "      <td>0</td>\n",
              "      <td>0</td>\n",
              "      <td>0</td>\n",
              "      <td>0</td>\n",
              "      <td>0</td>\n",
              "      <td>1</td>\n",
              "      <td>24</td>\n",
              "      <td>1</td>\n",
              "      <td>1</td>\n",
              "      <td>1</td>\n",
              "      <td>0</td>\n",
              "      <td>1</td>\n",
              "      <td>0</td>\n",
              "    </tr>\n",
              "    <tr>\n",
              "      <th>1050</th>\n",
              "      <td>1051</td>\n",
              "      <td>0</td>\n",
              "      <td>0</td>\n",
              "      <td>1</td>\n",
              "      <td>1</td>\n",
              "      <td>1</td>\n",
              "      <td>0</td>\n",
              "      <td>1</td>\n",
              "      <td>0</td>\n",
              "      <td>1</td>\n",
              "      <td>0</td>\n",
              "      <td>12</td>\n",
              "      <td>5</td>\n",
              "      <td>0</td>\n",
              "      <td>0</td>\n",
              "      <td>1</td>\n",
              "      <td>0</td>\n",
              "      <td>1</td>\n",
              "    </tr>\n",
              "    <tr>\n",
              "      <th>1051</th>\n",
              "      <td>1052</td>\n",
              "      <td>1</td>\n",
              "      <td>0</td>\n",
              "      <td>1</td>\n",
              "      <td>1</td>\n",
              "      <td>1</td>\n",
              "      <td>1</td>\n",
              "      <td>1</td>\n",
              "      <td>1</td>\n",
              "      <td>1</td>\n",
              "      <td>1</td>\n",
              "      <td>18</td>\n",
              "      <td>9</td>\n",
              "      <td>0</td>\n",
              "      <td>0</td>\n",
              "      <td>1</td>\n",
              "      <td>0</td>\n",
              "      <td>1</td>\n",
              "    </tr>\n",
              "    <tr>\n",
              "      <th>1052</th>\n",
              "      <td>1053</td>\n",
              "      <td>1</td>\n",
              "      <td>0</td>\n",
              "      <td>0</td>\n",
              "      <td>0</td>\n",
              "      <td>0</td>\n",
              "      <td>0</td>\n",
              "      <td>0</td>\n",
              "      <td>1</td>\n",
              "      <td>0</td>\n",
              "      <td>1</td>\n",
              "      <td>19</td>\n",
              "      <td>3</td>\n",
              "      <td>0</td>\n",
              "      <td>1</td>\n",
              "      <td>0</td>\n",
              "      <td>1</td>\n",
              "      <td>0</td>\n",
              "    </tr>\n",
              "    <tr>\n",
              "      <th>1053</th>\n",
              "      <td>1054</td>\n",
              "      <td>1</td>\n",
              "      <td>1</td>\n",
              "      <td>0</td>\n",
              "      <td>0</td>\n",
              "      <td>1</td>\n",
              "      <td>1</td>\n",
              "      <td>0</td>\n",
              "      <td>1</td>\n",
              "      <td>1</td>\n",
              "      <td>0</td>\n",
              "      <td>24</td>\n",
              "      <td>6</td>\n",
              "      <td>0</td>\n",
              "      <td>0</td>\n",
              "      <td>1</td>\n",
              "      <td>1</td>\n",
              "      <td>1</td>\n",
              "    </tr>\n",
              "  </tbody>\n",
              "</table>\n",
              "<p>1054 rows × 18 columns</p>\n",
              "</div>\n",
              "      <button class=\"colab-df-convert\" onclick=\"convertToInteractive('df-e0a312d5-5ba7-41c1-868f-4da7e12a3218')\"\n",
              "              title=\"Convert this dataframe to an interactive table.\"\n",
              "              style=\"display:none;\">\n",
              "        \n",
              "  <svg xmlns=\"http://www.w3.org/2000/svg\" height=\"24px\"viewBox=\"0 0 24 24\"\n",
              "       width=\"24px\">\n",
              "    <path d=\"M0 0h24v24H0V0z\" fill=\"none\"/>\n",
              "    <path d=\"M18.56 5.44l.94 2.06.94-2.06 2.06-.94-2.06-.94-.94-2.06-.94 2.06-2.06.94zm-11 1L8.5 8.5l.94-2.06 2.06-.94-2.06-.94L8.5 2.5l-.94 2.06-2.06.94zm10 10l.94 2.06.94-2.06 2.06-.94-2.06-.94-.94-2.06-.94 2.06-2.06.94z\"/><path d=\"M17.41 7.96l-1.37-1.37c-.4-.4-.92-.59-1.43-.59-.52 0-1.04.2-1.43.59L10.3 9.45l-7.72 7.72c-.78.78-.78 2.05 0 2.83L4 21.41c.39.39.9.59 1.41.59.51 0 1.02-.2 1.41-.59l7.78-7.78 2.81-2.81c.8-.78.8-2.07 0-2.86zM5.41 20L4 18.59l7.72-7.72 1.47 1.35L5.41 20z\"/>\n",
              "  </svg>\n",
              "      </button>\n",
              "      \n",
              "  <style>\n",
              "    .colab-df-container {\n",
              "      display:flex;\n",
              "      flex-wrap:wrap;\n",
              "      gap: 12px;\n",
              "    }\n",
              "\n",
              "    .colab-df-convert {\n",
              "      background-color: #E8F0FE;\n",
              "      border: none;\n",
              "      border-radius: 50%;\n",
              "      cursor: pointer;\n",
              "      display: none;\n",
              "      fill: #1967D2;\n",
              "      height: 32px;\n",
              "      padding: 0 0 0 0;\n",
              "      width: 32px;\n",
              "    }\n",
              "\n",
              "    .colab-df-convert:hover {\n",
              "      background-color: #E2EBFA;\n",
              "      box-shadow: 0px 1px 2px rgba(60, 64, 67, 0.3), 0px 1px 3px 1px rgba(60, 64, 67, 0.15);\n",
              "      fill: #174EA6;\n",
              "    }\n",
              "\n",
              "    [theme=dark] .colab-df-convert {\n",
              "      background-color: #3B4455;\n",
              "      fill: #D2E3FC;\n",
              "    }\n",
              "\n",
              "    [theme=dark] .colab-df-convert:hover {\n",
              "      background-color: #434B5C;\n",
              "      box-shadow: 0px 1px 3px 1px rgba(0, 0, 0, 0.15);\n",
              "      filter: drop-shadow(0px 1px 2px rgba(0, 0, 0, 0.3));\n",
              "      fill: #FFFFFF;\n",
              "    }\n",
              "  </style>\n",
              "\n",
              "      <script>\n",
              "        const buttonEl =\n",
              "          document.querySelector('#df-e0a312d5-5ba7-41c1-868f-4da7e12a3218 button.colab-df-convert');\n",
              "        buttonEl.style.display =\n",
              "          google.colab.kernel.accessAllowed ? 'block' : 'none';\n",
              "\n",
              "        async function convertToInteractive(key) {\n",
              "          const element = document.querySelector('#df-e0a312d5-5ba7-41c1-868f-4da7e12a3218');\n",
              "          const dataTable =\n",
              "            await google.colab.kernel.invokeFunction('convertToInteractive',\n",
              "                                                     [key], {});\n",
              "          if (!dataTable) return;\n",
              "\n",
              "          const docLinkHtml = 'Like what you see? Visit the ' +\n",
              "            '<a target=\"_blank\" href=https://colab.research.google.com/notebooks/data_table.ipynb>data table notebook</a>'\n",
              "            + ' to learn more about interactive tables.';\n",
              "          element.innerHTML = '';\n",
              "          dataTable['output_type'] = 'display_data';\n",
              "          await google.colab.output.renderOutput(dataTable, element);\n",
              "          const docLink = document.createElement('div');\n",
              "          docLink.innerHTML = docLinkHtml;\n",
              "          element.appendChild(docLink);\n",
              "        }\n",
              "      </script>\n",
              "    </div>\n",
              "  </div>\n",
              "  "
            ]
          },
          "metadata": {},
          "execution_count": 1
        }
      ],
      "source": [
        "import pandas as pd\n",
        "\n",
        "#Load the input data into a pandas DataFrame object \n",
        "data = pd.read_csv('/content/sample_data/autism.csv')  \n",
        "\n",
        "#Display\n",
        "data"
      ]
    },
    {
      "cell_type": "markdown",
      "metadata": {
        "id": "Eh7_9GlVRDna"
      },
      "source": [
        "**Step 2: Data preprocessing** \n",
        "\n",
        "You need to perform the following steps to extract the predictor attributes X and target attribute y from the input data.\n",
        "- Extract y from the last column of the data frame. Convert y from a pandas Series object into a numpy array object.\n",
        "- Extract X from the remaining columns of the data frame. \n",
        "- Drop the column named Case_No\n",
        "- Normalize the values in the Age_Months and Qchat-10-Score columns so that their values range between 0 and 1 by dividing the values in the columns with their respective maximum value.\n",
        "- Add a column of 1s to X (this will allow us to define the model intercept/bias).\n",
        "- Convert X from a pandas DataFrame object into a numpy array object.\n",
        "\n",
        "*Hint:* You can use .values to convert a pandas Series or DataFrame object into numpy arrays. "
      ]
    },
    {
      "cell_type": "markdown",
      "metadata": {
        "id": "nev9qkwoRDna"
      },
      "source": [
        "**(a)** Extract the target (class) attribute y from the last column of the dataframe. Show the class distribution. Convert y from a pandas Series object into a numpy array."
      ]
    },
    {
      "cell_type": "code",
      "source": [
        "import numpy as np\n",
        "\n",
        "# extract y & to arrary\n",
        "y = data['Class'].values\n",
        "print(y.shape)"
      ],
      "metadata": {
        "colab": {
          "base_uri": "https://localhost:8080/"
        },
        "id": "tOrRHfWTHRQP",
        "outputId": "ec0c6778-778d-4adc-a709-5b23abb44e21"
      },
      "execution_count": null,
      "outputs": [
        {
          "output_type": "stream",
          "name": "stdout",
          "text": [
            "(1054,)\n"
          ]
        }
      ]
    },
    {
      "cell_type": "code",
      "execution_count": null,
      "metadata": {
        "id": "bTuAIZhWRDnb",
        "outputId": "05d2dd45-2ff5-4b3d-e857-c804cf4bfff2",
        "colab": {
          "base_uri": "https://localhost:8080/"
        }
      },
      "outputs": [
        {
          "output_type": "stream",
          "name": "stdout",
          "text": [
            "0       0\n",
            "1       1\n",
            "2       1\n",
            "3       1\n",
            "4       1\n",
            "       ..\n",
            "1049    0\n",
            "1050    1\n",
            "1051    1\n",
            "1052    0\n",
            "1053    1\n",
            "Name: Class, Length: 1054, dtype: int64\n",
            "Class distribution:\n",
            "1    0.690702\n",
            "0    0.309298\n",
            "Name: Class, dtype: float64\n",
            "<class 'numpy.ndarray'>\n",
            "[[0. 0. 0. ... 1. 0. 0.]\n",
            " [1. 1. 0. ... 1. 0. 1.]\n",
            " [1. 0. 0. ... 1. 0. 1.]\n",
            " ...\n",
            " [1. 0. 1. ... 1. 0. 1.]\n",
            " [1. 0. 0. ... 0. 1. 0.]\n",
            " [1. 1. 0. ... 1. 1. 1.]]\n",
            "(1054, 17)\n"
          ]
        }
      ],
      "source": [
        "import numpy as np\n",
        "\n",
        "#Extract y from the last column of the data frame.\n",
        "y = data.Class\n",
        "\n",
        "print(y)\n",
        "#Class distribution\n",
        "print('Class distribution:')\n",
        "print(y.value_counts()/len(y))\n",
        "\n",
        "\n",
        "#Convert y from a pandas Series object into a numpy array object.\n",
        "y = data.values\n",
        "print(type(y))\n",
        "\n",
        "print(y)\n",
        "print(y.shape)"
      ]
    },
    {
      "cell_type": "markdown",
      "metadata": {
        "id": "Nscz0SztRDnb"
      },
      "source": [
        "**(b)** Extract the predictor attributes X by drop the class and Case_No columns from the dataframe object. Normalize the Age_Months and Qchat-10-Score columns by dividing each value with its respective maximum value. Convert the resulting pandas dataframe object into a numpy array. Print the size of the 2d array and display X to verify its content. "
      ]
    },
    {
      "cell_type": "code",
      "source": [
        "import numpy as np\n",
        "\n",
        "X = data.iloc[:,0:17] #extract class\n",
        "print(X)\n",
        "\n",
        "#Extract X from the remaining columns of the data frame and drop the column named Case_No\n",
        "X = data.drop(['Case_No'], axis=1, inplace=True)\n",
        "\n",
        "#Normalize the values in the Age_Months and Qchat-10-Score columns by dividing the values with maximum value.\n",
        "data.Age_Months = data.Age_Months / data.Age_Months.max()\n",
        "#print(data.head())\n",
        "\n",
        "data = data.rename(columns={'Qchat-10-Score': 'Quant10Score'})\n",
        "data.Quant10Score = data.Quant10Score / data.Quant10Score.max()\n",
        "#print(data.head())\n",
        "\n",
        "#Add a column of 1s to X\n",
        "#np.hstack((X,np.ones([X.shape[0],1], X.dtype)))\n",
        "\n",
        "#Convert X from a pandas DataFrame object into a numpy array object.\n",
        "X = data.values\n",
        "print(type(X))\n",
        "\n",
        "\n",
        "print(X)\n",
        "\n",
        "print('Shape of 2d-array, X =', X.shape)\n",
        "\n",
        "\n",
        "X\n",
        "#"
      ],
      "metadata": {
        "colab": {
          "base_uri": "https://localhost:8080/"
        },
        "id": "6nP5r6LWG16B",
        "outputId": "54ec9d5f-696f-4b09-9dba-124cc4323ef4"
      },
      "execution_count": null,
      "outputs": [
        {
          "output_type": "stream",
          "name": "stdout",
          "text": [
            "      Case_No  A1  A2  A3  A4  A5  A6  A7  A8  A9  A10  Age_Months  \\\n",
            "0           1   0   0   0   0   0   0   1   1   0    1          28   \n",
            "1           2   1   1   0   0   0   1   1   0   0    0          36   \n",
            "2           3   1   0   0   0   0   0   1   1   0    1          36   \n",
            "3           4   1   1   1   1   1   1   1   1   1    1          24   \n",
            "4           5   1   1   0   1   1   1   1   1   1    1          20   \n",
            "...       ...  ..  ..  ..  ..  ..  ..  ..  ..  ..  ...         ...   \n",
            "1049     1050   0   0   0   0   0   0   0   0   0    1          24   \n",
            "1050     1051   0   0   1   1   1   0   1   0   1    0          12   \n",
            "1051     1052   1   0   1   1   1   1   1   1   1    1          18   \n",
            "1052     1053   1   0   0   0   0   0   0   1   0    1          19   \n",
            "1053     1054   1   1   0   0   1   1   0   1   1    0          24   \n",
            "\n",
            "      Qchat-10-Score  Sex  Ethnicity  Jaundice  Family_mem_with_ASD  \n",
            "0                  3    1          0         1                    0  \n",
            "1                  4    0          1         1                    0  \n",
            "2                  4    0          0         1                    0  \n",
            "3                 10    0          0         0                    0  \n",
            "4                  9    1          1         0                    1  \n",
            "...              ...  ...        ...       ...                  ...  \n",
            "1049               1    1          1         0                    1  \n",
            "1050               5    0          0         1                    0  \n",
            "1051               9    0          0         1                    0  \n",
            "1052               3    0          1         0                    1  \n",
            "1053               6    0          0         1                    1  \n",
            "\n",
            "[1054 rows x 17 columns]\n",
            "<class 'numpy.ndarray'>\n",
            "[[0. 0. 0. ... 1. 0. 0.]\n",
            " [1. 1. 0. ... 1. 0. 1.]\n",
            " [1. 0. 0. ... 1. 0. 1.]\n",
            " ...\n",
            " [1. 0. 1. ... 1. 0. 1.]\n",
            " [1. 0. 0. ... 0. 1. 0.]\n",
            " [1. 1. 0. ... 1. 1. 1.]]\n",
            "Shape of 2d-array, X = (1054, 17)\n"
          ]
        },
        {
          "output_type": "execute_result",
          "data": {
            "text/plain": [
              "array([[0., 0., 0., ..., 1., 0., 0.],\n",
              "       [1., 1., 0., ..., 1., 0., 1.],\n",
              "       [1., 0., 0., ..., 1., 0., 1.],\n",
              "       ...,\n",
              "       [1., 0., 1., ..., 1., 0., 1.],\n",
              "       [1., 0., 0., ..., 0., 1., 0.],\n",
              "       [1., 1., 0., ..., 1., 1., 1.]])"
            ]
          },
          "metadata": {},
          "execution_count": 3
        }
      ]
    },
    {
      "cell_type": "markdown",
      "metadata": {
        "id": "b763dnYPRDnc"
      },
      "source": [
        "**Step 3: Training and Test Set Creation**\n",
        "\n",
        "Divide the data into a separate training and test set. You may use the scikit-learn train_test_split function to do this. You need to reserve 67% of the data for training and the remaining 33% for testing. Make sure you set the random_state parameter to 1 to ensure reproducibility of your result."
      ]
    },
    {
      "cell_type": "code",
      "source": [
        "print(X.shape, y.shape)"
      ],
      "metadata": {
        "colab": {
          "base_uri": "https://localhost:8080/"
        },
        "id": "EAfW93TMHDn3",
        "outputId": "6eca1fee-4f76-4349-ecee-5830ff9e6e2f"
      },
      "execution_count": null,
      "outputs": [
        {
          "output_type": "stream",
          "name": "stdout",
          "text": [
            "(1054, 17) (1054,)\n"
          ]
        }
      ]
    },
    {
      "cell_type": "code",
      "source": [
        "from sklearn.model_selection import train_test_split\n",
        "#np.hstack((X,np.ones([X.shape[0],1], X.dtype)))\n",
        "\n",
        "X_train, X_test, y_train, y_test = train_test_split(X, y, test_size=1/3, random_state=1)\n",
        "\n",
        "print('Training set: X.shape = ', X_train.shape, ' y.shape = ', y_train.shape )\n",
        "print('Test set: X.shape = ', X_test.shape, ' y.shape = ', y_test.shape )"
      ],
      "metadata": {
        "colab": {
          "base_uri": "https://localhost:8080/"
        },
        "id": "HmCVaj3TGYRr",
        "outputId": "e7e3d130-b705-4ea8-d2da-735b29917d7d"
      },
      "execution_count": null,
      "outputs": [
        {
          "output_type": "stream",
          "name": "stdout",
          "text": [
            "Training set: X.shape =  (702, 17)  y.shape =  (702,)\n",
            "Test set: X.shape =  (352, 17)  y.shape =  (352,)\n"
          ]
        }
      ]
    },
    {
      "cell_type": "markdown",
      "metadata": {
        "id": "D8t6G5tARDnc"
      },
      "source": [
        "**Step 4: Logistic Regression Model**\n",
        "\n",
        "Write an implementation of a class named LogisticRegr that implements the logistic regression classifier. There are 2 functions that must be implemented in this class: (1) a fit() function to fit the classifier to the given input data using gradient descent algorithm, and (2) a predict() function to apply the classifier to the test data. \n",
        "\n",
        "During training, the logistic regression classifier should implement the gradient descent algorithm by minimizing the following negative loglikehood function:\n",
        "$$\\mathcal{L} = \\sum_{i=1}^N \\bigg[ y_i \\log\\bigg(1 + e^{-\\mathbf{w}^T \\mathbf{x}_i - w_0}\\bigg )  + (1 - y_i) \\log\\bigg(1 + e^{\\mathbf{w}^T\\mathbf{x}_i + w_0}\\bigg) \\bigg]$$\n",
        "where $N$ is the size of the training data, $w_0$ is the model intercept, and $\\mathbf{w}$ is the vector of model coefficients. Both the model intercept and coefficients must be initialized to 0 and vector of zeros, respectively, before performing the gradient descent. You must compute the training loss at every iteration and store them in an array named loss. The training loss will be returned by the fit() function, which you can use to plot the convergence of the algorithm.\n",
        "\n",
        "Create a class named LogisticRegr for the logistic regression model. The model contains 2 functions:\n",
        "- fit(): this function will estimate the parameters of the generalized linear model using the maximum likelihood approach with gradient descent algorithm. The pseudocode of the gradient descent algorithm is as follows:\n",
        "\n",
        "    - w = [0,0,...,0]\n",
        "    - for i = 1 to maxiter do\n",
        "        - Update the weight: $\\mathbf{w} \\leftarrow \\mathbf{w} - \\frac{\\alpha}{N} \\nabla \\mathcal{L}$ (where $\\alpha$ is the learning rate) \n",
        "    - end\n",
        "\n",
        "- predict(): this function will apply the generalized linear model to predict the values of the target attribute given some test data, where the predicted class probability for each test instance $\\mathbf{x}_i$ is $$P(y_{i, pred} = 1 | \\mathbf{x}_i) = \\sigma(\\mathbf{x}_i) = \\frac{1}{1 + \\exp[-\\mathbf{w}^T\\mathbf{x}_i - w_0]}$$\n",
        "The function will assign the test instance to the larger class, e.g., class 1 if $P(y_{i,pred} = 1 | \\mathbf{x}_i) > P(y_{i,pred} = 0 | \\mathbf{x}_i)$. The function should return both the predicted class as well as the predicted class probabilities."
      ]
    },
    {
      "cell_type": "code",
      "execution_count": null,
      "metadata": {
        "id": "vW3QzBhrRDnc"
      },
      "outputs": [],
      "source": [
        "import numpy as np\n",
        "import math\n",
        "\n",
        "class LogisticRegr():\n",
        "    \"\"\"\n",
        "    Implementation of logistic regression classifier.\n",
        "    \n",
        "    \"\"\"\n",
        "    def __init__(self):\n",
        "        self.w = np.zeros(17)\n",
        "\n",
        "    def fit(self, X, y, maxiter = 100, learning_rate = 0.01):\n",
        "        \"\"\"\"\n",
        "            Input:  \n",
        "                X: N x d matrix of predictor attributes, where N is #training points and d is #predictor attributes\n",
        "                y: N x 1 vector of target attributes, where each value in the vector is either 0 or 1.\n",
        "                maxiter: maximum iteration before the gradient/subgradient descent algorithm terminates (default=100).\n",
        "                learning_rate: learning rate for gradient/subgradient descent (default = 0.01).\n",
        "\n",
        "            Output: \n",
        "                loss: maxiter x 1 vector containing value of the loss function in each iteration\n",
        "        \"\"\"    \n",
        "        n = len(X)\n",
        "        loss = []\n",
        "        wt = self.wt\n",
        "\n",
        "        for i in range(1, maxiter):\n",
        "            d, l = 0,0\n",
        "            for j in range(0, n):\n",
        "                sigma = 1/(1 + math.e**(-np.dot(wt.T,X[j])))\n",
        "                N = -((y[j] / sigma) - ((1 - y[j])/(1 - sigma)))\n",
        "                d += N * (sigma * (1 - sigma) * X[j])\n",
        "                l = l + y[j] * math.log(1 + math.e**(-np.dot(wt.T,X[j]))) + (1 - y[j]) * math.log(1 + math.e**(np.dot(wt.T,X[j])))\n",
        "            loss.append(l)\n",
        "            wt = wt - (learning_rate / n) * d\n",
        "        self.wt = wt\n",
        "\n",
        "        return loss\n",
        "                \n",
        "    def predict(self, X):\n",
        "        \"\"\"\"\n",
        "            Input:  \n",
        "                X: N x d matrix of predictor attributes, where N is #data points and d is #predictor attributes\n",
        "\n",
        "            Output: \n",
        "                Y_pred: N x 1 vector containing the predicted class of each data point (either 0 or 1)\n",
        "                Y_probs: N x 2 vector containing posterior probabilities of each data point in each of the 2 classes,\n",
        "                         where Y_probs[:,0] = P(y=0|x) and Y_probs[:,1] = P(y=1|x). \n",
        "        \"\"\"    \n",
        "        n = len(X)\n",
        "        Y_pred = []\n",
        "        Y_probs = [[],[]]\n",
        "        w = self.w\n",
        "\n",
        "        for k in range(0,n):\n",
        "            a = 1/(1 + math.e**(-np.dot(w.T,X[k])))\n",
        "            b = 1 - a\n",
        "            Y_probs[0].append(a)\n",
        "            Y_probs[1].append(b)\n",
        "            if (b > a):\n",
        "                Y_pred.append(1)\n",
        "            else:\n",
        "                Y_pred.append(0)\n",
        "\n",
        "        return (Y_pred, Y_probs)"
      ]
    },
    {
      "cell_type": "markdown",
      "metadata": {
        "id": "xq1QKPeJRDnd"
      },
      "source": [
        "**(a)** Train the logistic regression on the training data by invoking the fit() function with maxiter = 1000. Plot the resulting loss for each iteration to show convergence of the gradient descent algorithm. Make sure you display the model coefficients, including its intercept term."
      ]
    },
    {
      "cell_type": "code",
      "source": [
        "from matplotlib import pyplot as plt\n",
        "%matplotlib inline\n",
        "\n",
        "model = LogisticRegr()\n",
        "losses = model.fit(X_train, y_train, maxiter=1000)\n",
        "\n",
        "plt.plot(losses)\n",
        "plt.title('Logistic regression')\n",
        "print('Model coefficients:', model.w[1:])\n",
        "print('Model intercept:', model.w[0])"
      ],
      "metadata": {
        "colab": {
          "base_uri": "https://localhost:8080/",
          "height": 352
        },
        "id": "k61Oe92ngCkP",
        "outputId": "4753d6cd-ecf2-49de-edf6-7398aee9903c"
      },
      "execution_count": null,
      "outputs": [
        {
          "output_type": "stream",
          "name": "stdout",
          "text": [
            "Model coefficients: [ 0.3612804   0.20266443  0.31905505  0.34997182  0.34912834  0.31314045\n",
            "  0.24677765  0.45043439 -0.12771301 -0.53079407  0.27591738 -0.37254931\n",
            " -0.10771429 -0.07328131 -0.11162494  0.9551069 ]\n",
            "Model intercept: 0.2944342679924085\n"
          ]
        },
        {
          "output_type": "display_data",
          "data": {
            "text/plain": [
              "<Figure size 432x288 with 1 Axes>"
            ],
            "image/png": "[encoded data removed]"
          },
          "metadata": {
            "needs_background": "light"
          }
        }
      ]
    },
    {
      "cell_type": "markdown",
      "metadata": {
        "id": "pMpBucZNRDnd"
      },
      "source": [
        "**(b)** Apply the trained model separately to both the training and test data. Report the accuracy and confusion matrix obtained. You may use scikit-learn library functions for confusion_matrix and accuracy_score for this step."
      ]
    },
    {
      "cell_type": "code",
      "source": [
        "from sklearn.metrics import confusion_matrix\n",
        "from sklearn.metrics import accuracy_score\n",
        "\n",
        "from matplotlib import pyplot as plt\n",
        "%matplotlib inline\n",
        "\n",
        "model = LogisticRegr()\n",
        "losses = model.fit(X_train, y_train, maxiter=1000)\n",
        "\n",
        "(ytrain_pred, probs) = model.predict(X_train)\n",
        "(ytest_pred, probs) = model.predict(X_test)\n",
        "\n",
        "print('Model performance on training set:')\n",
        "print('Accuracy:', accuracy_score(y_train, ytrain_pred))\n",
        "print('Confusion matrix:')\n",
        "print(confusion_matrix(y_train, ytrain_pred))\n",
        "\n",
        "print('\\nModel performance on test set:')\n",
        "print('Accuracy:', accuracy_score(y_test, ytest_pred))\n",
        "print('Confusion matrix:')\n",
        "print(confusion_matrix(y_test, ytest_pred))"
      ],
      "metadata": {
        "colab": {
          "base_uri": "https://localhost:8080/"
        },
        "id": "yp_VXPGhHu-T",
        "outputId": "75aa9b56-f51b-4632-916e-9f4a412891b9"
      },
      "execution_count": null,
      "outputs": [
        {
          "output_type": "stream",
          "name": "stdout",
          "text": [
            "Model performance on training set:\n",
            "Accuracy: 0.8931623931623932\n",
            "Confusion matrix:\n",
            "[[157  75]\n",
            " [  0 470]]\n",
            "\n",
            "Model performance on test set:\n",
            "Accuracy: 0.9204545454545454\n",
            "Confusion matrix:\n",
            "[[ 66  28]\n",
            " [  0 258]]\n"
          ]
        }
      ]
    }
  ],
  "metadata": {
    "kernelspec": {
      "display_name": "Python 3",
      "language": "python",
      "name": "python3"
    },
    "language_info": {
      "codemirror_mode": {
        "name": "ipython",
        "version": 3
      },
      "file_extension": ".py",
      "mimetype": "text/x-python",
      "name": "python",
      "nbconvert_exporter": "python",
      "pygments_lexer": "ipython3",
      "version": "3.8.8"
    },
    "colab": {
      "provenance": []
    }
  },
  "nbformat": 4,
  "nbformat_minor": 0
}