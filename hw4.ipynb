{
  "cells": [
    {
      "cell_type": "markdown",
      "metadata": {
        "id": "m84V77Na9pxu"
      },
      "source": [
        "# Question 4 (Homework 4 part (b))\n",
        "\n",
        "For this question, you need to write an implementation of Poisson regression with maximum likelihood approach using the gradient descent algorithm. The dataset for this question corresponds to the Las Vegas daily accident count data. Your task is to predict the number of crashes on a given day based on 4 predictor attributes: day of the week, holiday, weather, and average number of crashes in the past 2 days. You will need to train a Poisson regression model to minimize the negative log-likelihood function given in Equation (1) of question 4(a) and compare its performance to multiple linear regression.\n",
        "\n",
        "The code must be written using only the built-in functions in standard python as well as functions provided by the numpy and pandas libraries. You may also use the train_test_split() function in scikit-learn for this homework. All other functions in the scikit-learn library are prohibited (except for multiple linear regression). If you're unsure whether you can use other functions/libraries, please contact the instructor.\n",
        "\n",
        "Follow the step-by-step procedure given in this tempate. Rename the template file to yourlastname.ipynb and submit the Jupyter notebook along with its HTML version (by choosing File -> Download as HTML on the menu option). "
      ]
    },
    {
      "cell_type": "markdown",
      "metadata": {
        "id": "IESbTs9p9pxw"
      },
      "source": [
        "### A. DATA LOADING AND PREPROCESSING"
      ]
    },
    {
      "cell_type": "markdown",
      "metadata": {
        "id": "g_8szIJc9pxw"
      },
      "source": [
        "**Step 1:** Download the *crash_data.csv* file from D2L. Load the data file into a pandas DataFrame object and display its content."
      ]
    },
    {
      "cell_type": "code",
      "source": [
        "import pandas as pd\n",
        "data = pd.read_csv('/content/sample_data/crash_data.csv')\n",
        "data"
      ],
      "metadata": {
        "id": "n4RMm9n5-CcF",
        "colab": {
          "base_uri": "https://localhost:8080/",
          "height": 424
        },
        "outputId": "77312a56-f34e-4af7-da11-dc8c41f21fe2"
      },
      "execution_count": null,
      "outputs": [
        {
          "output_type": "execute_result",
          "data": {
            "text/plain": [
              "     Crash_Date  Count  DayOfWeek  Holiday  Weather  Avg2days\n",
              "0      1/1/2016     38          4        1        0      37.0\n",
              "1      1/2/2016     22          5        0        0      36.0\n",
              "2      1/3/2016     22          6        0        0      30.0\n",
              "3      1/4/2016     47          0        0        1      22.0\n",
              "4      1/5/2016     63          1        0        1      34.5\n",
              "..          ...    ...        ...      ...      ...       ...\n",
              "361  12/27/2016     33          1        0        0      25.5\n",
              "362  12/28/2016     37          2        0        0      30.5\n",
              "363  12/29/2016     41          3        0        0      35.0\n",
              "364  12/30/2016     40          4        0        1      39.0\n",
              "365  12/31/2016     34          5        0        1      40.5\n",
              "\n",
              "[366 rows x 6 columns]"
            ],
            "text/html": [
              "\n",
              "  <div id=\"df-3a04af34-9c49-43a1-a9cb-9304613ff0ec\">\n",
              "    <div class=\"colab-df-container\">\n",
              "      <div>\n",
              "<style scoped>\n",
              "    .dataframe tbody tr th:only-of-type {\n",
              "        vertical-align: middle;\n",
              "    }\n",
              "\n",
              "    .dataframe tbody tr th {\n",
              "        vertical-align: top;\n",
              "    }\n",
              "\n",
              "    .dataframe thead th {\n",
              "        text-align: right;\n",
              "    }\n",
              "</style>\n",
              "<table border=\"1\" class=\"dataframe\">\n",
              "  <thead>\n",
              "    <tr style=\"text-align: right;\">\n",
              "      <th></th>\n",
              "      <th>Crash_Date</th>\n",
              "      <th>Count</th>\n",
              "      <th>DayOfWeek</th>\n",
              "      <th>Holiday</th>\n",
              "      <th>Weather</th>\n",
              "      <th>Avg2days</th>\n",
              "    </tr>\n",
              "  </thead>\n",
              "  <tbody>\n",
              "    <tr>\n",
              "      <th>0</th>\n",
              "      <td>1/1/2016</td>\n",
              "      <td>38</td>\n",
              "      <td>4</td>\n",
              "      <td>1</td>\n",
              "      <td>0</td>\n",
              "      <td>37.0</td>\n",
              "    </tr>\n",
              "    <tr>\n",
              "      <th>1</th>\n",
              "      <td>1/2/2016</td>\n",
              "      <td>22</td>\n",
              "      <td>5</td>\n",
              "      <td>0</td>\n",
              "      <td>0</td>\n",
              "      <td>36.0</td>\n",
              "    </tr>\n",
              "    <tr>\n",
              "      <th>2</th>\n",
              "      <td>1/3/2016</td>\n",
              "      <td>22</td>\n",
              "      <td>6</td>\n",
              "      <td>0</td>\n",
              "      <td>0</td>\n",
              "      <td>30.0</td>\n",
              "    </tr>\n",
              "    <tr>\n",
              "      <th>3</th>\n",
              "      <td>1/4/2016</td>\n",
              "      <td>47</td>\n",
              "      <td>0</td>\n",
              "      <td>0</td>\n",
              "      <td>1</td>\n",
              "      <td>22.0</td>\n",
              "    </tr>\n",
              "    <tr>\n",
              "      <th>4</th>\n",
              "      <td>1/5/2016</td>\n",
              "      <td>63</td>\n",
              "      <td>1</td>\n",
              "      <td>0</td>\n",
              "      <td>1</td>\n",
              "      <td>34.5</td>\n",
              "    </tr>\n",
              "    <tr>\n",
              "      <th>...</th>\n",
              "      <td>...</td>\n",
              "      <td>...</td>\n",
              "      <td>...</td>\n",
              "      <td>...</td>\n",
              "      <td>...</td>\n",
              "      <td>...</td>\n",
              "    </tr>\n",
              "    <tr>\n",
              "      <th>361</th>\n",
              "      <td>12/27/2016</td>\n",
              "      <td>33</td>\n",
              "      <td>1</td>\n",
              "      <td>0</td>\n",
              "      <td>0</td>\n",
              "      <td>25.5</td>\n",
              "    </tr>\n",
              "    <tr>\n",
              "      <th>362</th>\n",
              "      <td>12/28/2016</td>\n",
              "      <td>37</td>\n",
              "      <td>2</td>\n",
              "      <td>0</td>\n",
              "      <td>0</td>\n",
              "      <td>30.5</td>\n",
              "    </tr>\n",
              "    <tr>\n",
              "      <th>363</th>\n",
              "      <td>12/29/2016</td>\n",
              "      <td>41</td>\n",
              "      <td>3</td>\n",
              "      <td>0</td>\n",
              "      <td>0</td>\n",
              "      <td>35.0</td>\n",
              "    </tr>\n",
              "    <tr>\n",
              "      <th>364</th>\n",
              "      <td>12/30/2016</td>\n",
              "      <td>40</td>\n",
              "      <td>4</td>\n",
              "      <td>0</td>\n",
              "      <td>1</td>\n",
              "      <td>39.0</td>\n",
              "    </tr>\n",
              "    <tr>\n",
              "      <th>365</th>\n",
              "      <td>12/31/2016</td>\n",
              "      <td>34</td>\n",
              "      <td>5</td>\n",
              "      <td>0</td>\n",
              "      <td>1</td>\n",
              "      <td>40.5</td>\n",
              "    </tr>\n",
              "  </tbody>\n",
              "</table>\n",
              "<p>366 rows × 6 columns</p>\n",
              "</div>\n",
              "      <button class=\"colab-df-convert\" onclick=\"convertToInteractive('df-3a04af34-9c49-43a1-a9cb-9304613ff0ec')\"\n",
              "              title=\"Convert this dataframe to an interactive table.\"\n",
              "              style=\"display:none;\">\n",
              "        \n",
              "  <svg xmlns=\"http://www.w3.org/2000/svg\" height=\"24px\"viewBox=\"0 0 24 24\"\n",
              "       width=\"24px\">\n",
              "    <path d=\"M0 0h24v24H0V0z\" fill=\"none\"/>\n",
              "    <path d=\"M18.56 5.44l.94 2.06.94-2.06 2.06-.94-2.06-.94-.94-2.06-.94 2.06-2.06.94zm-11 1L8.5 8.5l.94-2.06 2.06-.94-2.06-.94L8.5 2.5l-.94 2.06-2.06.94zm10 10l.94 2.06.94-2.06 2.06-.94-2.06-.94-.94-2.06-.94 2.06-2.06.94z\"/><path d=\"M17.41 7.96l-1.37-1.37c-.4-.4-.92-.59-1.43-.59-.52 0-1.04.2-1.43.59L10.3 9.45l-7.72 7.72c-.78.78-.78 2.05 0 2.83L4 21.41c.39.39.9.59 1.41.59.51 0 1.02-.2 1.41-.59l7.78-7.78 2.81-2.81c.8-.78.8-2.07 0-2.86zM5.41 20L4 18.59l7.72-7.72 1.47 1.35L5.41 20z\"/>\n",
              "  </svg>\n",
              "      </button>\n",
              "      \n",
              "  <style>\n",
              "    .colab-df-container {\n",
              "      display:flex;\n",
              "      flex-wrap:wrap;\n",
              "      gap: 12px;\n",
              "    }\n",
              "\n",
              "    .colab-df-convert {\n",
              "      background-color: #E8F0FE;\n",
              "      border: none;\n",
              "      border-radius: 50%;\n",
              "      cursor: pointer;\n",
              "      display: none;\n",
              "      fill: #1967D2;\n",
              "      height: 32px;\n",
              "      padding: 0 0 0 0;\n",
              "      width: 32px;\n",
              "    }\n",
              "\n",
              "    .colab-df-convert:hover {\n",
              "      background-color: #E2EBFA;\n",
              "      box-shadow: 0px 1px 2px rgba(60, 64, 67, 0.3), 0px 1px 3px 1px rgba(60, 64, 67, 0.15);\n",
              "      fill: #174EA6;\n",
              "    }\n",
              "\n",
              "    [theme=dark] .colab-df-convert {\n",
              "      background-color: #3B4455;\n",
              "      fill: #D2E3FC;\n",
              "    }\n",
              "\n",
              "    [theme=dark] .colab-df-convert:hover {\n",
              "      background-color: #434B5C;\n",
              "      box-shadow: 0px 1px 3px 1px rgba(0, 0, 0, 0.15);\n",
              "      filter: drop-shadow(0px 1px 2px rgba(0, 0, 0, 0.3));\n",
              "      fill: #FFFFFF;\n",
              "    }\n",
              "  </style>\n",
              "\n",
              "      <script>\n",
              "        const buttonEl =\n",
              "          document.querySelector('#df-3a04af34-9c49-43a1-a9cb-9304613ff0ec button.colab-df-convert');\n",
              "        buttonEl.style.display =\n",
              "          google.colab.kernel.accessAllowed ? 'block' : 'none';\n",
              "\n",
              "        async function convertToInteractive(key) {\n",
              "          const element = document.querySelector('#df-3a04af34-9c49-43a1-a9cb-9304613ff0ec');\n",
              "          const dataTable =\n",
              "            await google.colab.kernel.invokeFunction('convertToInteractive',\n",
              "                                                     [key], {});\n",
              "          if (!dataTable) return;\n",
              "\n",
              "          const docLinkHtml = 'Like what you see? Visit the ' +\n",
              "            '<a target=\"_blank\" href=https://colab.research.google.com/notebooks/data_table.ipynb>data table notebook</a>'\n",
              "            + ' to learn more about interactive tables.';\n",
              "          element.innerHTML = '';\n",
              "          dataTable['output_type'] = 'display_data';\n",
              "          await google.colab.output.renderOutput(dataTable, element);\n",
              "          const docLink = document.createElement('div');\n",
              "          docLink.innerHTML = docLinkHtml;\n",
              "          element.appendChild(docLink);\n",
              "        }\n",
              "      </script>\n",
              "    </div>\n",
              "  </div>\n",
              "  "
            ]
          },
          "metadata": {},
          "execution_count": 2
        }
      ]
    },
    {
      "cell_type": "markdown",
      "metadata": {
        "id": "uNbIWt0Q9pxx"
      },
      "source": [
        "**(b)** Extract the Count column of the dataframe object and use it as the target variable to be predicted. The target variable corresponds to the number of crashes on a given day. Plot a histogram to depict the distribution of the target variable. **Note:** The histogram below is for illustrative purposes only. Make sure you label the x- and y-axes accordingly."
      ]
    },
    {
      "cell_type": "code",
      "source": [
        "data['Count']"
      ],
      "metadata": {
        "colab": {
          "base_uri": "https://localhost:8080/"
        },
        "id": "5QoJ9lGzMUBO",
        "outputId": "dc5ed57f-9c44-43e7-c647-21682feddd8c"
      },
      "execution_count": null,
      "outputs": [
        {
          "output_type": "execute_result",
          "data": {
            "text/plain": [
              "0      38\n",
              "1      22\n",
              "2      22\n",
              "3      47\n",
              "4      63\n",
              "       ..\n",
              "361    33\n",
              "362    37\n",
              "363    41\n",
              "364    40\n",
              "365    34\n",
              "Name: Count, Length: 366, dtype: int64"
            ]
          },
          "metadata": {},
          "execution_count": 3
        }
      ]
    },
    {
      "cell_type": "code",
      "source": [
        "#Extract the Count column of the dataframe object and use it as the target variable to be predicted.\n",
        "y = data.Count"
      ],
      "metadata": {
        "id": "U4QtiAREK8Vf"
      },
      "execution_count": null,
      "outputs": []
    },
    {
      "cell_type": "code",
      "source": [
        "#Plot a histogram to depict the distribution of the target variable\n",
        "plot = data['Count'].plot(kind='hist', edgecolor='black')\n",
        "plot.set_ylabel(\"Frequency\")\n",
        "plot.set_xlabel(\"Number of Crashes\")"
      ],
      "metadata": {
        "colab": {
          "base_uri": "https://localhost:8080/",
          "height": 297
        },
        "id": "stsRelDLL-TY",
        "outputId": "f86b91c6-16da-49d4-e3c9-00b460fb54e5"
      },
      "execution_count": null,
      "outputs": [
        {
          "output_type": "execute_result",
          "data": {
            "text/plain": [
              "Text(0.5, 0, 'Number of Crashes')"
            ]
          },
          "metadata": {},
          "execution_count": 5
        },
        {
          "output_type": "display_data",
          "data": {
            "text/plain": [
              "<Figure size 432x288 with 1 Axes>"
            ],
            "image/png": "[encoded data removed]"
          },
          "metadata": {
            "needs_background": "light"
          }
        }
      ]
    },
    {
      "cell_type": "markdown",
      "metadata": {
        "id": "pCABXjZA9pxy"
      },
      "source": [
        "**(c)** Extract a numpy array of the predictor attributes X from the last 4 columns of the dataframe by excluding the first 2 columns (Crash_Date and Count). Standardize the Avg2days column by subtracting the value in the column with its corresponding column mean and dividing it by the column's standard deviation. Do not standardize other columns (DayOfWeek, Holiday, and Weather). Append a column of 1s as the last column of the predictor matrix X to represent the model bias (intercept term). Display the resulting matrix."
      ]
    },
    {
      "cell_type": "code",
      "source": [
        "#Extract a numpy array of the predictor attributes X from the last 4 columns \n",
        "X = data.iloc[:,2:] #extract class\n",
        "print(X)"
      ],
      "metadata": {
        "colab": {
          "base_uri": "https://localhost:8080/"
        },
        "id": "nWSDZJRvVd-0",
        "outputId": "cb23db49-ce28-4c8a-ffcd-0c8316e927b8"
      },
      "execution_count": null,
      "outputs": [
        {
          "output_type": "stream",
          "name": "stdout",
          "text": [
            "     DayOfWeek  Holiday  Weather  Avg2days\n",
            "0            4        1        0      37.0\n",
            "1            5        0        0      36.0\n",
            "2            6        0        0      30.0\n",
            "3            0        0        1      22.0\n",
            "4            1        0        1      34.5\n",
            "..         ...      ...      ...       ...\n",
            "361          1        0        0      25.5\n",
            "362          2        0        0      30.5\n",
            "363          3        0        0      35.0\n",
            "364          4        0        1      39.0\n",
            "365          5        0        1      40.5\n",
            "\n",
            "[366 rows x 4 columns]\n"
          ]
        }
      ]
    },
    {
      "cell_type": "code",
      "source": [
        "# Standardize the Avg2days column\n",
        "X['Avg2days'] = (X['Avg2days'] - X['Avg2days'].mean())/X['Avg2days'].std()\n",
        "\n",
        "X['Avg2days']"
      ],
      "metadata": {
        "colab": {
          "base_uri": "https://localhost:8080/"
        },
        "id": "bx1MzkCpVe-J",
        "outputId": "584e5e96-9703-4c50-fc87-cd176d447e1a"
      },
      "execution_count": null,
      "outputs": [
        {
          "output_type": "execute_result",
          "data": {
            "text/plain": [
              "0      0.350285\n",
              "1      0.194318\n",
              "2     -0.741478\n",
              "3     -1.989208\n",
              "4     -0.039631\n",
              "         ...   \n",
              "361   -1.443326\n",
              "362   -0.663495\n",
              "363    0.038352\n",
              "364    0.662217\n",
              "365    0.896166\n",
              "Name: Avg2days, Length: 366, dtype: float64"
            ]
          },
          "metadata": {},
          "execution_count": 7
        }
      ]
    },
    {
      "cell_type": "code",
      "source": [
        "#Append a column of 1s as the last column\n",
        "X.insert(4, \"Ones\", 1)"
      ],
      "metadata": {
        "id": "deFWp7lwVvs6"
      },
      "execution_count": null,
      "outputs": []
    },
    {
      "cell_type": "code",
      "source": [
        "X = X.values"
      ],
      "metadata": {
        "id": "3yzWXoFdVyIb"
      },
      "execution_count": null,
      "outputs": []
    },
    {
      "cell_type": "code",
      "source": [
        "#Display matrix\n",
        "X"
      ],
      "metadata": {
        "colab": {
          "base_uri": "https://localhost:8080/"
        },
        "id": "GwuiH5xHV20s",
        "outputId": "be0878c9-d7b5-4584-da8c-c99d624d7056"
      },
      "execution_count": null,
      "outputs": [
        {
          "output_type": "execute_result",
          "data": {
            "text/plain": [
              "array([[ 4.        ,  1.        ,  0.        ,  0.35028461,  1.        ],\n",
              "       [ 5.        ,  0.        ,  0.        ,  0.19431847,  1.        ],\n",
              "       [ 6.        ,  0.        ,  0.        , -0.74147838,  1.        ],\n",
              "       ...,\n",
              "       [ 3.        ,  0.        ,  0.        ,  0.03835233,  1.        ],\n",
              "       [ 4.        ,  0.        ,  1.        ,  0.6622169 ,  1.        ],\n",
              "       [ 5.        ,  0.        ,  1.        ,  0.89616611,  1.        ]])"
            ]
          },
          "metadata": {},
          "execution_count": 10
        }
      ]
    },
    {
      "cell_type": "markdown",
      "metadata": {
        "id": "OrcO4cY69pxz"
      },
      "source": [
        "**(d)** Divide the data into a separate training and test set. You may use the scikit-learn train_test_split function to do this. You should reserve 75% of the data for training and the remaining 25% for testing."
      ]
    },
    {
      "cell_type": "code",
      "source": [
        "from sklearn.model_selection import train_test_split\n",
        "#np.hstack((X,np.ones([X.shape[0],1], X.dtype)))\n",
        "\n",
        "X_train, X_test, y_train, y_test = train_test_split(X, y, test_size=1/4, random_state=1)\n",
        "\n",
        "print('Training set: X.shape = ', X_train.shape, ' y.shape = ', y_train.shape )\n",
        "print('Test set: X.shape = ', X_test.shape, ' y.shape = ', y_test.shape )"
      ],
      "metadata": {
        "colab": {
          "base_uri": "https://localhost:8080/"
        },
        "id": "Xqxj0iEsXB_R",
        "outputId": "1d0f6327-5370-49bb-9227-ba07ec9d3545"
      },
      "execution_count": null,
      "outputs": [
        {
          "output_type": "stream",
          "name": "stdout",
          "text": [
            "Training set: X.shape =  (274, 5)  y.shape =  (274,)\n",
            "Test set: X.shape =  (92, 5)  y.shape =  (92,)\n"
          ]
        }
      ]
    },
    {
      "cell_type": "markdown",
      "metadata": {
        "id": "ppwLbxlP9pxz"
      },
      "source": [
        "### B. MODEL BUILDING AND EVALUATION"
      ]
    },
    {
      "cell_type": "markdown",
      "metadata": {
        "id": "Mp7IG7Sl9pxz"
      },
      "source": [
        "**Step 2** Poisson Regression\n",
        "\n",
        "**(a)** Create a class for the poisson regression model. There are 2 functions in this class: *fit* and *predict*. The *fit* function will estimate parameters of the Poisson regression model from the input training data whereas the *predict* function will apply the model to the given test data. "
      ]
    },
    {
      "cell_type": "code",
      "execution_count": null,
      "metadata": {
        "id": "i2RlPR4C9pxz"
      },
      "outputs": [],
      "source": [
        "import math\n",
        "import numpy as np\n",
        "\n",
        "class PoissonRegress:\n",
        "  \n",
        "        def __init__(self):\n",
        "          self.w = np.zeros(5)\n",
        "\n",
        "        def fit(self, X, y, lr=0.001, maxiter=50000):\n",
        "            \"\"\"\n",
        "             This function will take as input the training data (X, y), learning rate (lr) and maximum number of \n",
        "             iterations (maxiter). It will apply the gradient descent algorithm to learn the model parameters. Use \n",
        "             the gradient of the negative log-likelihood function from question 4(a) for the gradient descent \n",
        "             update formula:             \n",
        "                                 w(k) = w(k-1) - lr/N * gradient(NLL)\n",
        "\n",
        "             where N is the number of training examples. You must also compute the loss in each iteration and plot\n",
        "             its value after each iteration to demonstrate its convergence. Note: you may ignore the log y! term \n",
        "             when calculating the loss since it is independent of the model parameter w.\n",
        "            \"\"\" \n",
        "            N = len(X)\n",
        "            fin_loss = []\n",
        "            w = self.w\n",
        "\n",
        "            for i in range(maxiter):\n",
        "              NLL = 0\n",
        "              loss = 0\n",
        "              for j in range(N):\n",
        "                NLL += np.dot((math.e**(np.dot(w.T, X[j]))-y[j]), X[j])\n",
        "                loss -= (y[j] * np.dot(w.T, X[j]) + math.e**(np.dot(w.T, X[j])))\n",
        "              fin_loss.append(loss)\n",
        "              w = w - (lr/N)*NLL\n",
        "            self.w = w\n",
        "            return fin_loss\n",
        "              \n",
        "\n",
        "\n",
        "        def predict(self, X):\n",
        "            \"\"\"\n",
        "             This function will take as input the test data X and returns the predicted value of the Poisson\n",
        "             regression model. \n",
        "            \"\"\" \n",
        "            n = len(X)\n",
        "            y_pred = []\n",
        "\n",
        "            for i in range(n):\n",
        "              y = math.e**(np.dot(self.w.T, X[i]))\n",
        "              y_pred.append(y)\n",
        "\n",
        "            return y_pred\n",
        "          \n"
      ]
    },
    {
      "cell_type": "markdown",
      "metadata": {
        "id": "BCxAzufg9px0"
      },
      "source": [
        "**(b):** Fit the Poisson regression model to the input training data. Set the learning rate parameter to be 0.001 and maximum iteration of the gradient descent to be 7000. Plot the negative log-likelihood function against the number of iterations (epochs) to show its convergence. Display also the resulting model parameters. "
      ]
    },
    {
      "cell_type": "code",
      "source": [
        "X_train"
      ],
      "metadata": {
        "colab": {
          "base_uri": "https://localhost:8080/"
        },
        "id": "06pVRdjnQY1g",
        "outputId": "002972e9-c7fc-47a1-bd4b-413d7963436a"
      },
      "execution_count": null,
      "outputs": [
        {
          "output_type": "execute_result",
          "data": {
            "text/plain": [
              "array([[ 4.        ,  0.        ,  0.        , -0.11761381,  1.        ],\n",
              "       [ 0.        ,  0.        ,  0.        , -1.05341067,  1.        ],\n",
              "       [ 5.        ,  0.        ,  1.        ,  0.89616611,  1.        ],\n",
              "       ...,\n",
              "       [ 6.        ,  0.        ,  0.        ,  1.44204761,  1.        ],\n",
              "       [ 1.        ,  0.        ,  0.        , -0.66349531,  1.        ],\n",
              "       [ 6.        ,  0.        ,  0.        ,  0.97414918,  1.        ]])"
            ]
          },
          "metadata": {},
          "execution_count": 13
        }
      ]
    },
    {
      "cell_type": "code",
      "source": [
        "y_train = y_train.values"
      ],
      "metadata": {
        "id": "xqxZfHEUQfWl"
      },
      "execution_count": null,
      "outputs": []
    },
    {
      "cell_type": "code",
      "source": [
        "y_train"
      ],
      "metadata": {
        "colab": {
          "base_uri": "https://localhost:8080/"
        },
        "id": "tkbWnqgKQpYG",
        "outputId": "1faaf7be-333a-4e1d-81b9-fc92fa7b0c2d"
      },
      "execution_count": null,
      "outputs": [
        {
          "output_type": "execute_result",
          "data": {
            "text/plain": [
              "array([44, 36, 34, 40, 20, 32, 24, 33, 29, 43, 46, 34, 23, 43, 41, 32, 37,\n",
              "       26, 41, 40, 26, 18, 35, 44, 36, 26, 41, 38, 42, 14, 39, 36, 27, 30,\n",
              "       16, 30, 24, 38, 32, 40, 40, 39, 49, 41, 43, 48, 20, 41, 61, 37, 33,\n",
              "       41, 28, 31, 26, 32, 28, 29, 30, 34, 38, 35, 23, 33, 32, 27, 26, 32,\n",
              "       37, 19, 38, 29, 22, 34, 63, 35, 29, 44, 33, 39, 33, 32, 36, 46, 31,\n",
              "       30, 47, 40, 41, 35, 36, 27, 18, 36, 39, 25, 23, 48, 36, 41, 32, 41,\n",
              "       31, 22, 28, 39, 37, 45, 32, 41, 31, 26, 32, 33, 29, 34, 44, 30, 31,\n",
              "       19, 39, 30, 35, 27, 31, 31, 50, 26, 31, 48, 38, 36, 46, 41, 34, 39,\n",
              "       27, 30, 37, 44, 37, 36, 28, 34, 38, 36, 34, 40, 28, 38, 39, 32, 37,\n",
              "       20, 23, 26, 26, 35, 25, 44, 56, 33, 53, 29, 34, 37, 41, 40, 35, 34,\n",
              "       43, 33, 30, 48, 33, 32, 27, 22, 34, 38, 41, 37, 30, 23, 33, 34, 41,\n",
              "       31, 33, 23, 35, 22, 33, 35, 23, 26, 35, 32, 35, 28, 43, 41, 43, 28,\n",
              "       34, 46, 40, 37, 33, 29, 30, 32, 30, 38, 53, 40, 35, 52, 34, 33, 15,\n",
              "       34, 33, 52, 29, 20, 42, 39, 46, 35, 45, 44, 41, 47, 21, 30, 87, 39,\n",
              "       23, 23, 43, 36, 33, 27, 31, 22, 44, 26, 26, 29, 23, 31, 29, 37, 29,\n",
              "       35, 45, 23, 34, 25, 30, 37, 37, 34, 49, 38, 32, 46, 42, 35, 26, 27,\n",
              "       29, 24])"
            ]
          },
          "metadata": {},
          "execution_count": 15
        }
      ]
    },
    {
      "cell_type": "code",
      "source": [
        "model = PoissonRegress()\n",
        "loss = model.fit(X_train, y_train, lr=1e-3, maxiter=7000)\n",
        "print('Model parameters:')\n",
        "print(model.w[:])"
      ],
      "metadata": {
        "colab": {
          "base_uri": "https://localhost:8080/"
        },
        "id": "-JMYKKUSNDe_",
        "outputId": "ac3835a4-5b22-4a45-8f51-31ae52c45cfe"
      },
      "execution_count": null,
      "outputs": [
        {
          "output_type": "stream",
          "name": "stdout",
          "text": [
            "Model parameters:\n",
            "[-0.03494709 -0.29136196  0.12976003  0.04435076  3.64114414]\n"
          ]
        }
      ]
    },
    {
      "cell_type": "code",
      "source": [
        "from matplotlib import pyplot as plt\n",
        "%matplotlib inline\n",
        "plt.plot(loss)\n",
        "plt.title('Poisson regression')\n",
        "plt.ylabel('Negative Likelihood')\n",
        "plt.xlabel('Epoch')\n",
        "print('Model coefficients:', model.w[:])\n",
        "maxiter = 7000\n",
        "print('Model intercept:', maxiter)"
      ],
      "metadata": {
        "colab": {
          "base_uri": "https://localhost:8080/",
          "height": 331
        },
        "id": "TGK4GJTVVxv1",
        "outputId": "d4779604-0d63-4e76-d23e-2eae2d333670"
      },
      "execution_count": null,
      "outputs": [
        {
          "output_type": "stream",
          "name": "stdout",
          "text": [
            "Model coefficients: [-0.03494709 -0.29136196  0.12976003  0.04435076  3.64114414]\n",
            "Model intercept: 7000\n"
          ]
        },
        {
          "output_type": "display_data",
          "data": {
            "text/plain": [
              "<Figure size 432x288 with 1 Axes>"
            ],
            "image/png": "[encoded data removed]"
          },
          "metadata": {
            "needs_background": "light"
          }
        }
      ]
    },
    {
      "cell_type": "markdown",
      "metadata": {
        "id": "ukWgPsK39px0"
      },
      "source": [
        "**(c)** Apply the model to the test data. Compute the root mean square error and draw a scatter plot to display the true and predicted values."
      ]
    },
    {
      "cell_type": "code",
      "source": [
        "y_actual = y_test\n",
        "y_pred = model.predict(X_test)"
      ],
      "metadata": {
        "id": "nLBEn8ENZugm"
      },
      "execution_count": null,
      "outputs": []
    },
    {
      "cell_type": "code",
      "source": [
        "\n",
        "err = np.square(np.subtract(y_actual,y_pred)).mean() \n",
        " \n",
        "rms = math.sqrt(err)\n",
        "print(\"Root Mean Square Error:\\n\")\n",
        "print(rms)"
      ],
      "metadata": {
        "colab": {
          "base_uri": "https://localhost:8080/"
        },
        "id": "noCST2F-ZPnQ",
        "outputId": "203383d6-a671-48bc-adb1-e015aa127a0f"
      },
      "execution_count": null,
      "outputs": [
        {
          "output_type": "stream",
          "name": "stdout",
          "text": [
            "Root Mean Square Error:\n",
            "\n",
            "8.303227345246173\n"
          ]
        }
      ]
    },
    {
      "cell_type": "code",
      "source": [
        "res = np.array(range(1, len(y_test)+1))\n",
        "plt.scatter(res, y_actual, color = 'green')\n",
        "plt.scatter(res, y_pred, color = 'blue')\n",
        "plt.xlabel('True value')\n",
        "plt.ylabel('Predicted Value')"
      ],
      "metadata": {
        "colab": {
          "base_uri": "https://localhost:8080/",
          "height": 297
        },
        "id": "Y47J_YLmm-2w",
        "outputId": "12dfbccd-da06-4e58-92d5-be4cca0de208"
      },
      "execution_count": null,
      "outputs": [
        {
          "output_type": "execute_result",
          "data": {
            "text/plain": [
              "Text(0, 0.5, 'Predicted Value')"
            ]
          },
          "metadata": {},
          "execution_count": 25
        },
        {
          "output_type": "display_data",
          "data": {
            "text/plain": [
              "<Figure size 432x288 with 1 Axes>"
            ],
            "image/png": "[encoded data removed]"
          },
          "metadata": {
            "needs_background": "light"
          }
        }
      ]
    },
    {
      "cell_type": "markdown",
      "metadata": {
        "id": "8D-z6Z9b9px0"
      },
      "source": [
        "**(d)** Compare the results against multiple linear regression. You can use scikit-learn implementation of multipmole linear regression for this problem. Display the model parameter including its intercept. Compute the root mean squared error of the model when applied to the test set and draw a scatter plot to display the true and predicted value of the model. "
      ]
    },
    {
      "cell_type": "code",
      "source": [
        "from sklearn.linear_model import PoissonRegressor\n",
        "reg = PoissonRegressor().fit(X_train, y_train)\n",
        "y_pred = reg.predict(X_test)\n",
        "\n",
        "err = np.square(np.subtract(y_test,y_pred)).mean() \n",
        "rms = math.sqrt(err)\n",
        "\n",
        "print(\"(Poisson) Root mean squared error = \", rms)\n",
        "res = np.array(range(1, len(y_test)+1))\n",
        "\n",
        "plt.scatter(res, y_actual, color = 'green')\n",
        "plt.scatter(res, y_pred, color = 'blue')\n",
        "plt.xlabel('True value')\n",
        "plt.ylabel('Predicted Value')"
      ],
      "metadata": {
        "colab": {
          "base_uri": "https://localhost:8080/",
          "height": 315
        },
        "id": "I92zitGppJun",
        "outputId": "0fe615c6-5a05-4ebd-dbf1-aaed698c6de7"
      },
      "execution_count": null,
      "outputs": [
        {
          "output_type": "stream",
          "name": "stdout",
          "text": [
            "(Poisson) Root mean squared error =  8.227888348673382\n"
          ]
        },
        {
          "output_type": "execute_result",
          "data": {
            "text/plain": [
              "Text(0, 0.5, 'Predicted Value')"
            ]
          },
          "metadata": {},
          "execution_count": 27
        },
        {
          "output_type": "display_data",
          "data": {
            "text/plain": [
              "<Figure size 432x288 with 1 Axes>"
            ],
            "image/png": "[encoded data removed]"
          },
          "metadata": {
            "needs_background": "light"
          }
        }
      ]
    },
    {
      "cell_type": "code",
      "source": [
        "from sklearn.linear_model import LinearRegression\n",
        "from sklearn.metrics import mean_absolute_error, mean_squared_error\n",
        "\n",
        "lr = LinearRegression()\n",
        "lr.fit(X_train, y_train)\n",
        "#print(lr.intercept_)\n",
        "#print(lr.coef_)\n",
        "\n",
        "y_pred = lr.predict(X_test)\n",
        "\n",
        "mse = mean_squared_error(y_test, y_pred)\n",
        "rmse = np.sqrt(mse)\n",
        "print(\"(Linear Regression) Root mean squared error = \", rmse)"
      ],
      "metadata": {
        "colab": {
          "base_uri": "https://localhost:8080/"
        },
        "id": "4rKLLZgMbE5r",
        "outputId": "f0c61d8b-effa-4677-c69a-2121e486c8ae"
      },
      "execution_count": null,
      "outputs": [
        {
          "output_type": "stream",
          "name": "stdout",
          "text": [
            "(Linear Regression) Root mean squared error =  8.240728340270824\n"
          ]
        }
      ]
    },
    {
      "cell_type": "code",
      "source": [
        "plt.scatter(res, y_actual, color = 'green')\n",
        "plt.scatter(res, y_pred, color = 'blue')\n",
        "plt.xlabel('True value')\n",
        "plt.ylabel('Predicted Value')"
      ],
      "metadata": {
        "colab": {
          "base_uri": "https://localhost:8080/",
          "height": 297
        },
        "id": "GhSfIN6RcBWu",
        "outputId": "fcc31309-adc9-4e3d-d025-71cad61863fc"
      },
      "execution_count": null,
      "outputs": [
        {
          "output_type": "execute_result",
          "data": {
            "text/plain": [
              "Text(0, 0.5, 'Predicted Value')"
            ]
          },
          "metadata": {},
          "execution_count": 31
        },
        {
          "output_type": "display_data",
          "data": {
            "text/plain": [
              "<Figure size 432x288 with 1 Axes>"
            ],
            "image/png": "[encoded data removed]"
          },
          "metadata": {
            "needs_background": "light"
          }
        }
      ]
    },
    {
      "cell_type": "code",
      "source": [],
      "metadata": {
        "id": "YAyNiMcCp3Oo"
      },
      "execution_count": null,
      "outputs": []
    }
  ],
  "metadata": {
    "kernelspec": {
      "display_name": "Python 3",
      "language": "python",
      "name": "python3"
    },
    "language_info": {
      "codemirror_mode": {
        "name": "ipython",
        "version": 3
      },
      "file_extension": ".py",
      "mimetype": "text/x-python",
      "name": "python",
      "nbconvert_exporter": "python",
      "pygments_lexer": "ipython3",
      "version": "3.8.8"
    },
    "colab": {
      "provenance": []
    }
  },
  "nbformat": 4,
  "nbformat_minor": 0
}