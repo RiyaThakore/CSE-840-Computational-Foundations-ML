{
  "cells": [
    {
      "cell_type": "markdown",
      "metadata": {
        "id": "g5vqCRBpIA7q"
      },
      "source": [
        "# Question 5 (Homework 2)\n",
        "\n",
        "For this question, you need to write a Python program that computes the solution for a linear system of equations $\\mathbf{Ax} = \\mathbf{b}$. Your program should contain a main function called *gauss* that takes two input arguments, the matrix $\\mathbf{A}$ and vector $\\mathbf{b}$, and returns an output vector $\\mathbf{x}$. \n",
        "\n",
        "Use the template Jupyter notebook provided below to write and evaluate your code. You may use basic functions such as sum(), max() and argmax() in numpy for this exercise. You are prohibited from using other Python libraries (including numpy.linalg library) that explicitly solves the system of linear equations. Your program should contain a main function called \\emph{gauss} that takes two input arguments, the matrix $\\mathbf{A}$ and vector $\\mathbf{b}$, and returns an output vector $\\mathbf{x}$. You need to implement two separate functions: *forward* and *backsubstitution*, which will be called by the *gauss* function to perform the forward elimination and backsubstitution steps. The code must be able to handle both consistent and inconsistent systems. If the system is inconsistent, it should display an error message that indicates no solution can be found. If the system is consistent and has free variables, which means, it has more than one solution, it should return the particular solution by setting all the free variables to 0. "
      ]
    },
    {
      "cell_type": "code",
      "execution_count": null,
      "metadata": {
        "id": "uSHasTKIIA7s"
      },
      "outputs": [],
      "source": [
        "import numpy as np\n",
        "\n",
        "def gauss(A,b):\n",
        "    \"\"\"\n",
        "        This is the main function for performing Gaussian elimination. The function will take as input a matrix A and vector b\n",
        "        and return the vector x such that Ax = b. If no solution exists, then x should return nan. The function should perform\n",
        "        the following steps:\n",
        "        1. Display the original input matrix by calling the display() function.\n",
        "        2. Invoke the forward() function to perform forward elimination.\n",
        "        3. Display the row echelon form matrix U and transformed vector b after performing forward elimination.\n",
        "        4. Invoke the backsubstitution() function to solve the equation Ux = b', where b' is the transformed vector of b.\n",
        "    \"\"\"\n",
        "    print('Original matrix: ')\n",
        "    display(A,b)\n",
        "    U, b, pivots = forward(A,b)\n",
        "    print('After forward elimination: ')\n",
        "    display(U,b)\n",
        "    return backsubstitution(U, b, pivots)\n",
        "    \n",
        "def forward(A,b):\n",
        "    \"\"\"\n",
        "        This function performs forward elimination given a matrix A and vector b. The function must check whether the current \n",
        "        pivot element is zero. If so, it will swap out the current row with another row that has the largest absolute value \n",
        "        for the pivoted column. If row swapping is performed, it must display the indices of the rows that were swapped. If \n",
        "        all the rows have a value of 0 in the pivoted column, then it should skip to the next column to find a new pivot. The \n",
        "        function should keep track of the column IDs that contain the pivot. \n",
        "        \n",
        "        The function should return the following as its output:\n",
        "        1. U: the row echelon form of matrix A.\n",
        "        2. b': the transformed vector b after forward elimination.\n",
        "        3. pivots: a list or numpy array that contains indices of columns that have a pivot. \n",
        "        \n",
        "        For example, if pivots = [1, 3, 4] for a 4 x 4 matrix A, then the pivots are located at elements U(1,1), U(2,3), and \n",
        "        U(3,4) (Assuming the matrix indices range from 1 to 4 instead of 0 to 3). Such a system will have 3 basic variables \n",
        "        and 1 free variable (which is the second column).\n",
        "    \"\"\"\n",
        "\n",
        "    ln = len(b)\n",
        "    pivots = []\n",
        "    for i in range(0,ln-1): \n",
        "      for j in range(i+1,ln):\n",
        "        if A[j,i] != 0:\n",
        "          factor = A[j,i]/A[i,i]\n",
        "          #print('Pivot:',A[j,i])\n",
        "          pivots.append([factor])\n",
        "          A[j,i+1:ln] -= np.multiply(factor,A[i,i+1:ln])\n",
        "          b[j] -= np.multiply(factor,b[i])\n",
        "    return A, b, pivots\n",
        "  \n",
        "  \n",
        "\n",
        "def backsubstitution(U, b, pivots):\n",
        "    \"\"\"\n",
        "        This function performs backsubstitution on the system of linear equation, Ux = b', where U is the reduced echelon form\n",
        "        matrix and b' is the corresponding transformed vector. The function takes as input the matrix U, vector b, and list of\n",
        "        pivots returned by the forward elimination function. It will return the solution vector x as its output (or nan if the \n",
        "        system is inconsistent).          \n",
        "    \"\"\"\n",
        "    ln = len(b)\n",
        "    for k in range(ln-1,-1,-1):\n",
        "      back_var = b[k] - np.dot(U[k,k+1:ln],b[k+1:ln])\n",
        "      b[k] = back_var/U[k,k]\n",
        "    return b\n",
        "    \n",
        "    \n",
        "def display(A, b):\n",
        "    n = len(A)\n",
        "    for i in range(0, n):\n",
        "        line = \"\"\n",
        "        for j in range(0, n):\n",
        "            line += str(A[i][j]) + \"  \"\n",
        "        line += \" | \" + str(b[i])\n",
        "        print(line)\n",
        "    print(\"\")"
      ]
    },
    {
      "cell_type": "markdown",
      "metadata": {
        "id": "qrO2_WgoIA7u"
      },
      "source": [
        "Use the test cases below to verify the correctness of your program. "
      ]
    },
    {
      "cell_type": "markdown",
      "metadata": {
        "id": "AbqXitU_IA7u"
      },
      "source": [
        "## Example 1: Consistent system without row swapping."
      ]
    },
    {
      "cell_type": "code",
      "execution_count": null,
      "metadata": {
        "id": "ck-i5KmBIA7u",
        "outputId": "6a8943c8-2a82-4487-f359-7e0b65c57cd0"
      },
      "outputs": [
        {
          "name": "stdout",
          "output_type": "stream",
          "text": [
            "Original matrix: \n",
            "2.0  1.0  2.0   | 4.0\n",
            "4.0  -1.0  -1.0   | 6.0\n",
            "1.0  -1.0  1.0   | 5.0\n",
            "\n",
            "After forward elimination: \n",
            "?  ?  ?   | ?\n",
            "?  ?  ?   | ?\n",
            "?  ?  ?   | ?\n",
            "\n",
            "Results after backsubstitution:\n",
            "['?', '?', '?']\n"
          ]
        }
      ],
      "source": [
        "import numpy as np\n",
        "\n",
        "A = np.array([[2.0, 1.0, 2.0],[4.0,-1.0,-1.0],[1.0,-1.0,1.0]])\n",
        "b = np.array([4.0,6.0,5.0])\n",
        "\n",
        "result = gauss(A,b)\n",
        "print('Results after backsubstitution:')\n",
        "print(result)"
      ]
    },
    {
      "cell_type": "code",
      "source": [
        "#COPYY\n",
        "import numpy as np\n",
        "\n",
        "A = np.array([[2.0, 1.0, 2.0],[4.0,-1.0,-1.0],[1.0,-1.0,1.0]])\n",
        "b = np.array([4.0,6.0,5.0])\n",
        "\n",
        "result = gauss(A,b)\n",
        "print('Results after backsubstitution:')\n",
        "print(result)"
      ],
      "metadata": {
        "colab": {
          "base_uri": "https://localhost:8080/"
        },
        "id": "DFiMdtS_tkyg",
        "outputId": "5d3bba59-ea8e-4bf9-a6db-796c3a7bb49a"
      },
      "execution_count": null,
      "outputs": [
        {
          "output_type": "stream",
          "name": "stdout",
          "text": [
            "Original matrix: \n",
            "2.0  1.0  2.0   | 4.0\n",
            "4.0  -1.0  -1.0   | 6.0\n",
            "1.0  -1.0  1.0   | 5.0\n",
            "\n",
            "Pivot: 4.0\n",
            "Pivot: 1.0\n",
            "Pivot: -1.5\n",
            "After forward elimination: \n",
            "2.0  1.0  2.0   | 4.0\n",
            "4.0  -3.0  -5.0   | -2.0\n",
            "1.0  -1.5  2.5   | 4.0\n",
            "\n",
            "Results after backsubstitution:\n",
            "[ 1.4 -2.   1.6]\n"
          ]
        }
      ]
    },
    {
      "cell_type": "markdown",
      "metadata": {
        "id": "-SBnDsRXIA7v"
      },
      "source": [
        "## Example 2: Consistent system with row swapping"
      ]
    },
    {
      "cell_type": "code",
      "execution_count": null,
      "metadata": {
        "id": "HfaBdxY2IA7v",
        "outputId": "b3f74818-900e-46da-f2a9-c175d0d2199f"
      },
      "outputs": [
        {
          "name": "stdout",
          "output_type": "stream",
          "text": [
            "Original matrix: \n",
            "2.0  1.0  2.0   | 4.0\n",
            "4.0  2.0  -1.0   | 6.0\n",
            "1.0  -1.0  1.0   | 5.0\n",
            "\n",
            "Swapping row ??? with row ???\n",
            "\n",
            "After forward elimination: \n",
            "?  ?  ?   | ?\n",
            "?  ?  ?   | ?\n",
            "?  ?  ?   | ?\n",
            "\n",
            "Results after backsubstitution:\n",
            "['?', '?', '?']\n"
          ]
        }
      ],
      "source": [
        "import numpy as np\n",
        "\n",
        "A = np.array([[2.0, 1.0, 2.0],[4.0,2.0,-1.0],[1.0,-1.0,1.0]])\n",
        "b = np.array([4.0,6.0,5.0])\n",
        "\n",
        "result = gauss(A,b)\n",
        "print('Results after backsubstitution:')\n",
        "print(result)"
      ]
    },
    {
      "cell_type": "code",
      "source": [
        "import numpy as np\n",
        "\n",
        "A = np.array([[2.0, 1.0, 2.0],[4.0,2.0,-1.0],[1.0,-1.0,1.0]])\n",
        "b = np.array([4.0,6.0,5.0])\n",
        "\n",
        "result = gauss(A,b)\n",
        "print('Results after backsubstitution:')\n",
        "print(result)"
      ],
      "metadata": {
        "colab": {
          "base_uri": "https://localhost:8080/"
        },
        "id": "iL-E0AmKyMzk",
        "outputId": "e8323801-3ab1-4c72-882c-b848213bacc0"
      },
      "execution_count": null,
      "outputs": [
        {
          "output_type": "stream",
          "name": "stdout",
          "text": [
            "Original matrix: \n",
            "2.0  1.0  2.0   | 4.0\n",
            "4.0  2.0  -1.0   | 6.0\n",
            "1.0  -1.0  1.0   | 5.0\n",
            "\n",
            "Pivot: 4.0\n",
            "Pivot: 1.0\n",
            "Pivot: -1.5\n",
            "After forward elimination: \n",
            "2.0  1.0  2.0   | 4.0\n",
            "4.0  0.0  -5.0   | -2.0\n",
            "1.0  -1.5  -inf   | -inf\n",
            "\n",
            "Results after backsubstitution:\n",
            "[nan nan nan]\n"
          ]
        },
        {
          "output_type": "stream",
          "name": "stderr",
          "text": [
            "/usr/local/lib/python3.7/dist-packages/ipykernel_launcher.py:46: RuntimeWarning: divide by zero encountered in double_scalars\n",
            "/usr/local/lib/python3.7/dist-packages/ipykernel_launcher.py:62: RuntimeWarning: invalid value encountered in double_scalars\n"
          ]
        }
      ]
    },
    {
      "cell_type": "markdown",
      "metadata": {
        "id": "ec_hkKxTIA7w"
      },
      "source": [
        "## Example 3: Inconsistent system with a free variable"
      ]
    },
    {
      "cell_type": "code",
      "execution_count": null,
      "metadata": {
        "id": "RnNJFcXGIA7w",
        "outputId": "acc7ffbd-2ca9-4eaf-df4c-e4a3fec1b09b"
      },
      "outputs": [
        {
          "name": "stdout",
          "output_type": "stream",
          "text": [
            "Original matrix: \n",
            "2.0  1.0  2.0   | 4.0\n",
            "4.0  -1.0  -1.0   | 6.0\n",
            "1.0  0.5  1.0   | 5.0\n",
            "\n",
            "After forward elimination: \n",
            "?  ?  ?   | ?\n",
            "?  ?  ?   | ?\n",
            "?  ?  ?   | ?\n",
            "\n",
            "System is inconsistent.\n",
            "\n",
            "Results after backsubstitution:\n",
            "nan\n"
          ]
        }
      ],
      "source": [
        "import numpy as np\n",
        "\n",
        "A = np.array([[2.0, 1.0, 2.0],[4.0,-1.0,-1.0],[1.0,0.5,1.0]])\n",
        "b = np.array([4.0,6.0,5.0])\n",
        "\n",
        "result = gauss(A,b)\n",
        "print('Results after backsubstitution:')\n",
        "print(result)"
      ]
    },
    {
      "cell_type": "code",
      "source": [
        "import numpy as np\n",
        "\n",
        "A = np.array([[2.0, 1.0, 2.0],[4.0,-1.0,-1.0],[1.0,0.5,1.0]])\n",
        "b = np.array([4.0,6.0,5.0])\n",
        "\n",
        "result = gauss(A,b)\n",
        "print('Results after backsubstitution:')\n",
        "print(result)"
      ],
      "metadata": {
        "colab": {
          "base_uri": "https://localhost:8080/"
        },
        "id": "8MG0tR-ByUXO",
        "outputId": "63c56047-e219-4861-c912-e32bf78b2f21"
      },
      "execution_count": null,
      "outputs": [
        {
          "output_type": "stream",
          "name": "stdout",
          "text": [
            "Original matrix: \n",
            "2.0  1.0  2.0   | 4.0\n",
            "4.0  -1.0  -1.0   | 6.0\n",
            "1.0  0.5  1.0   | 5.0\n",
            "\n",
            "Pivot: 4.0\n",
            "Pivot: 1.0\n",
            "Pivot: 0.0\n",
            "After forward elimination: \n",
            "2.0  1.0  2.0   | 4.0\n",
            "4.0  -3.0  -5.0   | -2.0\n",
            "1.0  0.0  0.0   | 3.0\n",
            "\n",
            "Results after backsubstitution:\n",
            "[ nan -inf  inf]\n"
          ]
        },
        {
          "output_type": "stream",
          "name": "stderr",
          "text": [
            "/usr/local/lib/python3.7/dist-packages/ipykernel_launcher.py:62: RuntimeWarning: divide by zero encountered in double_scalars\n"
          ]
        }
      ]
    },
    {
      "cell_type": "markdown",
      "metadata": {
        "id": "8f2rE2YsIA7w"
      },
      "source": [
        "## Example 4: Consistent system with a free variable"
      ]
    },
    {
      "cell_type": "code",
      "execution_count": null,
      "metadata": {
        "id": "vSFSeAtUIA7w",
        "outputId": "71c4a637-c09b-483e-8239-d888d2d8808f"
      },
      "outputs": [
        {
          "name": "stdout",
          "output_type": "stream",
          "text": [
            "Original matrix: \n",
            "2.0  1.0  2.0   | 4.0\n",
            "-4.0  -2.0  -1.0   | 6.0\n",
            "1.0  0.5  1.0   | 2.0\n",
            "\n",
            "After forward elimination: \n",
            "?  ?  ?   | ?\n",
            "?  ?  ?   | ?\n",
            "?  ?  ?   | ?\n",
            "\n",
            "Results after backsubstitution:\n",
            "['?', '?', '?']\n"
          ]
        }
      ],
      "source": [
        "import numpy as np\n",
        "\n",
        "A = np.array([[2.0, 1.0, 2.0],[-4.0,-2.0,-1.0],[1.0,0.5,1.0]])\n",
        "b = np.array([4.0,6.0,2.0])\n",
        "\n",
        "result = gauss(A,b)\n",
        "print('Results after backsubstitution:')\n",
        "print(result)"
      ]
    },
    {
      "cell_type": "code",
      "source": [
        "import numpy as np\n",
        "\n",
        "A = np.array([[2.0, 1.0, 2.0],[-4.0,-2.0,-1.0],[1.0,0.5,1.0]])\n",
        "b = np.array([4.0,6.0,2.0])\n",
        "\n",
        "result = gauss(A,b)\n",
        "print('Results after backsubstitution:')\n",
        "print(result)"
      ],
      "metadata": {
        "colab": {
          "base_uri": "https://localhost:8080/"
        },
        "id": "TOLE9eLeyZ-n",
        "outputId": "28a7ca48-de5b-4a05-b7f2-a454bd1526d6"
      },
      "execution_count": null,
      "outputs": [
        {
          "output_type": "stream",
          "name": "stdout",
          "text": [
            "Original matrix: \n",
            "2.0  1.0  2.0   | 4.0\n",
            "-4.0  -2.0  -1.0   | 6.0\n",
            "1.0  0.5  1.0   | 2.0\n",
            "\n",
            "Pivot: -4.0\n",
            "Pivot: 1.0\n",
            "Pivot: 0.0\n",
            "After forward elimination: \n",
            "2.0  1.0  2.0   | 4.0\n",
            "-4.0  0.0  3.0   | 14.0\n",
            "1.0  0.0  0.0   | 0.0\n",
            "\n",
            "Results after backsubstitution:\n",
            "[nan nan nan]\n"
          ]
        },
        {
          "output_type": "stream",
          "name": "stderr",
          "text": [
            "/usr/local/lib/python3.7/dist-packages/ipykernel_launcher.py:62: RuntimeWarning: invalid value encountered in double_scalars\n"
          ]
        }
      ]
    },
    {
      "cell_type": "code",
      "source": [],
      "metadata": {
        "id": "k83VcfNvyaPd"
      },
      "execution_count": null,
      "outputs": []
    }
  ],
  "metadata": {
    "kernelspec": {
      "display_name": "Python 3",
      "language": "python",
      "name": "python3"
    },
    "language_info": {
      "codemirror_mode": {
        "name": "ipython",
        "version": 3
      },
      "file_extension": ".py",
      "mimetype": "text/x-python",
      "name": "python",
      "nbconvert_exporter": "python",
      "pygments_lexer": "ipython3",
      "version": "3.8.8"
    },
    "colab": {
      "provenance": []
    }
  },
  "nbformat": 4,
  "nbformat_minor": 0
}